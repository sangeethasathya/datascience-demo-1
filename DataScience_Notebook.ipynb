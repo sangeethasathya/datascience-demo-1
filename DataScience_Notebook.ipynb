{
  "nbformat": 4,
  "nbformat_minor": 0,
  "metadata": {
    "colab": {
      "provenance": [],
      "toc_visible": true,
      "authorship_tag": "ABX9TyOqVzzp6bO9m8rCdxI6TrVr",
      "include_colab_link": true
    },
    "kernelspec": {
      "name": "python3",
      "display_name": "Python 3"
    },
    "language_info": {
      "name": "python"
    }
  },
  "cells": [
    {
      "cell_type": "markdown",
      "metadata": {
        "id": "view-in-github",
        "colab_type": "text"
      },
      "source": [
        "<a href=\"https://colab.research.google.com/github/sangeethasathya/datascience-demo-1/blob/main/DataScience_Notebook.ipynb\" target=\"_parent\"><img src=\"https://colab.research.google.com/assets/colab-badge.svg\" alt=\"Open In Colab\"/></a>"
      ]
    },
    {
      "cell_type": "markdown",
      "source": [
        "## Ingest"
      ],
      "metadata": {
        "id": "Ak1UWEtKD_sw"
      }
    },
    {
      "cell_type": "code",
      "source": [],
      "metadata": {
        "id": "TQkz7sWiD_Io"
      },
      "execution_count": null,
      "outputs": []
    },
    {
      "cell_type": "markdown",
      "source": [
        "## EDA"
      ],
      "metadata": {
        "id": "CWWBRE3eEfkn"
      }
    },
    {
      "cell_type": "code",
      "source": [],
      "metadata": {
        "id": "OD42uqyOErRA"
      },
      "execution_count": null,
      "outputs": []
    },
    {
      "cell_type": "markdown",
      "source": [
        "## Modeling"
      ],
      "metadata": {
        "id": "eXjaH9c0EUiQ"
      }
    },
    {
      "cell_type": "markdown",
      "source": [
        "Classification Algorithm A"
      ],
      "metadata": {
        "id": "5oMNhSlXO6dy"
      }
    },
    {
      "cell_type": "code",
      "source": [],
      "metadata": {
        "id": "cHmPdMpjPjPi"
      },
      "execution_count": null,
      "outputs": []
    },
    {
      "cell_type": "markdown",
      "source": [
        "Classification Algorithm B"
      ],
      "metadata": {
        "id": "oQ0GwfCGPCSa"
      }
    },
    {
      "cell_type": "code",
      "source": [],
      "metadata": {
        "id": "j1a3VI3MEIaX"
      },
      "execution_count": null,
      "outputs": []
    },
    {
      "cell_type": "markdown",
      "source": [
        "## Conclusion"
      ],
      "metadata": {
        "id": "Brmo5udhE1QI"
      }
    },
    {
      "cell_type": "code",
      "source": [],
      "metadata": {
        "id": "LGXwRwXFE38o"
      },
      "execution_count": null,
      "outputs": []
    }
  ]
}